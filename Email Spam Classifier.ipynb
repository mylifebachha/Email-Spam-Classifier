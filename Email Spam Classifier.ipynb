{
 "cells": [
  {
   "cell_type": "code",
   "execution_count": 1,
   "id": "1c3c0bb3",
   "metadata": {},
   "outputs": [],
   "source": [
    "import numpy as np\n",
    "import pandas as pd\n",
    "import seaborn as sns\n",
    "import matplotlib.pyplot as plt\n",
    "import warnings\n",
    "warnings.filterwarnings('ignore')"
   ]
  },
  {
   "cell_type": "code",
   "execution_count": 3,
   "id": "e5c1a61d",
   "metadata": {
    "scrolled": true
   },
   "outputs": [
    {
     "data": {
      "text/html": [
       "<div>\n",
       "<style scoped>\n",
       "    .dataframe tbody tr th:only-of-type {\n",
       "        vertical-align: middle;\n",
       "    }\n",
       "\n",
       "    .dataframe tbody tr th {\n",
       "        vertical-align: top;\n",
       "    }\n",
       "\n",
       "    .dataframe thead th {\n",
       "        text-align: right;\n",
       "    }\n",
       "</style>\n",
       "<table border=\"1\" class=\"dataframe\">\n",
       "  <thead>\n",
       "    <tr style=\"text-align: right;\">\n",
       "      <th></th>\n",
       "      <th>v1</th>\n",
       "      <th>v2</th>\n",
       "      <th>Unnamed: 2</th>\n",
       "      <th>Unnamed: 3</th>\n",
       "      <th>Unnamed: 4</th>\n",
       "    </tr>\n",
       "  </thead>\n",
       "  <tbody>\n",
       "    <tr>\n",
       "      <th>0</th>\n",
       "      <td>ham</td>\n",
       "      <td>Go until jurong point, crazy.. Available only ...</td>\n",
       "      <td>NaN</td>\n",
       "      <td>NaN</td>\n",
       "      <td>NaN</td>\n",
       "    </tr>\n",
       "    <tr>\n",
       "      <th>1</th>\n",
       "      <td>ham</td>\n",
       "      <td>Ok lar... Joking wif u oni...</td>\n",
       "      <td>NaN</td>\n",
       "      <td>NaN</td>\n",
       "      <td>NaN</td>\n",
       "    </tr>\n",
       "    <tr>\n",
       "      <th>2</th>\n",
       "      <td>spam</td>\n",
       "      <td>Free entry in 2 a wkly comp to win FA Cup fina...</td>\n",
       "      <td>NaN</td>\n",
       "      <td>NaN</td>\n",
       "      <td>NaN</td>\n",
       "    </tr>\n",
       "    <tr>\n",
       "      <th>3</th>\n",
       "      <td>ham</td>\n",
       "      <td>U dun say so early hor... U c already then say...</td>\n",
       "      <td>NaN</td>\n",
       "      <td>NaN</td>\n",
       "      <td>NaN</td>\n",
       "    </tr>\n",
       "    <tr>\n",
       "      <th>4</th>\n",
       "      <td>ham</td>\n",
       "      <td>Nah I don't think he goes to usf, he lives aro...</td>\n",
       "      <td>NaN</td>\n",
       "      <td>NaN</td>\n",
       "      <td>NaN</td>\n",
       "    </tr>\n",
       "    <tr>\n",
       "      <th>...</th>\n",
       "      <td>...</td>\n",
       "      <td>...</td>\n",
       "      <td>...</td>\n",
       "      <td>...</td>\n",
       "      <td>...</td>\n",
       "    </tr>\n",
       "    <tr>\n",
       "      <th>5567</th>\n",
       "      <td>spam</td>\n",
       "      <td>This is the 2nd time we have tried 2 contact u...</td>\n",
       "      <td>NaN</td>\n",
       "      <td>NaN</td>\n",
       "      <td>NaN</td>\n",
       "    </tr>\n",
       "    <tr>\n",
       "      <th>5568</th>\n",
       "      <td>ham</td>\n",
       "      <td>Will Ì_ b going to esplanade fr home?</td>\n",
       "      <td>NaN</td>\n",
       "      <td>NaN</td>\n",
       "      <td>NaN</td>\n",
       "    </tr>\n",
       "    <tr>\n",
       "      <th>5569</th>\n",
       "      <td>ham</td>\n",
       "      <td>Pity, * was in mood for that. So...any other s...</td>\n",
       "      <td>NaN</td>\n",
       "      <td>NaN</td>\n",
       "      <td>NaN</td>\n",
       "    </tr>\n",
       "    <tr>\n",
       "      <th>5570</th>\n",
       "      <td>ham</td>\n",
       "      <td>The guy did some bitching but I acted like i'd...</td>\n",
       "      <td>NaN</td>\n",
       "      <td>NaN</td>\n",
       "      <td>NaN</td>\n",
       "    </tr>\n",
       "    <tr>\n",
       "      <th>5571</th>\n",
       "      <td>ham</td>\n",
       "      <td>Rofl. Its true to its name</td>\n",
       "      <td>NaN</td>\n",
       "      <td>NaN</td>\n",
       "      <td>NaN</td>\n",
       "    </tr>\n",
       "  </tbody>\n",
       "</table>\n",
       "<p>5572 rows × 5 columns</p>\n",
       "</div>"
      ],
      "text/plain": [
       "        v1                                                 v2 Unnamed: 2  \\\n",
       "0      ham  Go until jurong point, crazy.. Available only ...        NaN   \n",
       "1      ham                      Ok lar... Joking wif u oni...        NaN   \n",
       "2     spam  Free entry in 2 a wkly comp to win FA Cup fina...        NaN   \n",
       "3      ham  U dun say so early hor... U c already then say...        NaN   \n",
       "4      ham  Nah I don't think he goes to usf, he lives aro...        NaN   \n",
       "...    ...                                                ...        ...   \n",
       "5567  spam  This is the 2nd time we have tried 2 contact u...        NaN   \n",
       "5568   ham              Will Ì_ b going to esplanade fr home?        NaN   \n",
       "5569   ham  Pity, * was in mood for that. So...any other s...        NaN   \n",
       "5570   ham  The guy did some bitching but I acted like i'd...        NaN   \n",
       "5571   ham                         Rofl. Its true to its name        NaN   \n",
       "\n",
       "     Unnamed: 3 Unnamed: 4  \n",
       "0           NaN        NaN  \n",
       "1           NaN        NaN  \n",
       "2           NaN        NaN  \n",
       "3           NaN        NaN  \n",
       "4           NaN        NaN  \n",
       "...         ...        ...  \n",
       "5567        NaN        NaN  \n",
       "5568        NaN        NaN  \n",
       "5569        NaN        NaN  \n",
       "5570        NaN        NaN  \n",
       "5571        NaN        NaN  \n",
       "\n",
       "[5572 rows x 5 columns]"
      ]
     },
     "execution_count": 3,
     "metadata": {},
     "output_type": "execute_result"
    }
   ],
   "source": [
    "df = pd.read_csv(\"C:\\spam.csv\",encoding='ISO-8859-1')\n",
    "df"
   ]
  },
  {
   "cell_type": "code",
   "execution_count": null,
   "id": "581cc3a3",
   "metadata": {},
   "outputs": [],
   "source": [
    "df.drop(columns=['Unnamed: 2','Unnamed: 3','Unnamed: 4'],inplace=True)"
   ]
  },
  {
   "cell_type": "code",
   "execution_count": 4,
   "id": "77b5b249",
   "metadata": {},
   "outputs": [
    {
     "name": "stdout",
     "output_type": "stream",
     "text": [
      "<class 'pandas.core.frame.DataFrame'>\n",
      "RangeIndex: 5572 entries, 0 to 5571\n",
      "Data columns (total 5 columns):\n",
      " #   Column      Non-Null Count  Dtype \n",
      "---  ------      --------------  ----- \n",
      " 0   v1          5572 non-null   object\n",
      " 1   v2          5572 non-null   object\n",
      " 2   Unnamed: 2  50 non-null     object\n",
      " 3   Unnamed: 3  12 non-null     object\n",
      " 4   Unnamed: 4  6 non-null      object\n",
      "dtypes: object(5)\n",
      "memory usage: 217.8+ KB\n"
     ]
    }
   ],
   "source": [
    "df.info()"
   ]
  },
  {
   "cell_type": "code",
   "execution_count": null,
   "id": "3415b2ef",
   "metadata": {},
   "outputs": [],
   "source": [
    "df.rename(columns={'v1':'Target', 'v2':'SMS'}, inplace = True)"
   ]
  },
  {
   "cell_type": "code",
   "execution_count": 5,
   "id": "eb6c017d",
   "metadata": {},
   "outputs": [
    {
     "data": {
      "text/plain": [
       "v1               0\n",
       "v2               0\n",
       "Unnamed: 2    5522\n",
       "Unnamed: 3    5560\n",
       "Unnamed: 4    5566\n",
       "dtype: int64"
      ]
     },
     "execution_count": 5,
     "metadata": {},
     "output_type": "execute_result"
    }
   ],
   "source": [
    "df.isnull().sum()"
   ]
  },
  {
   "cell_type": "code",
   "execution_count": 6,
   "id": "33e3ae63",
   "metadata": {},
   "outputs": [
    {
     "data": {
      "image/png": "[encoded data removed]",
      "text/plain": [
       "<Figure size 432x288 with 2 Axes>"
      ]
     },
     "metadata": {
      "needs_background": "light"
     },
     "output_type": "display_data"
    }
   ],
   "source": [
    "sns.heatmap(df.isnull());"
   ]
  },
  {
   "cell_type": "code",
   "execution_count": 7,
   "id": "5ca50709",
   "metadata": {},
   "outputs": [
    {
     "data": {
      "text/plain": [
       "True"
      ]
     },
     "execution_count": 7,
     "metadata": {},
     "output_type": "execute_result"
    }
   ],
   "source": [
    "df.isnull().sum().any()"
   ]
  },
  {
   "cell_type": "code",
   "execution_count": 8,
   "id": "77a19c74",
   "metadata": {},
   "outputs": [
    {
     "data": {
      "text/plain": [
       "403"
      ]
     },
     "execution_count": 8,
     "metadata": {},
     "output_type": "execute_result"
    }
   ],
   "source": [
    "df.duplicated().sum()"
   ]
  },
  {
   "cell_type": "code",
   "execution_count": 12,
   "id": "5d72629e",
   "metadata": {},
   "outputs": [],
   "source": [
    "df.drop_duplicates(keep = 'first', inplace =True)"
   ]
  },
  {
   "cell_type": "code",
   "execution_count": null,
   "id": "05b41b6d",
   "metadata": {},
   "outputs": [],
   "source": [
    "from sklearn.preprocessing import LabelEncoder\n",
    "encoder = LabelEncoder()\n",
    "df['Target'] = encoder.fit_transform(df['Target'])"
   ]
  },
  {
   "cell_type": "code",
   "execution_count": 11,
   "id": "77ce820c",
   "metadata": {
    "scrolled": true
   },
   "outputs": [
    {
     "data": {
      "text/html": [
       "<div>\n",
       "<style scoped>\n",
       "    .dataframe tbody tr th:only-of-type {\n",
       "        vertical-align: middle;\n",
       "    }\n",
       "\n",
       "    .dataframe tbody tr th {\n",
       "        vertical-align: top;\n",
       "    }\n",
       "\n",
       "    .dataframe thead th {\n",
       "        text-align: right;\n",
       "    }\n",
       "</style>\n",
       "<table border=\"1\" class=\"dataframe\">\n",
       "  <thead>\n",
       "    <tr style=\"text-align: right;\">\n",
       "      <th></th>\n",
       "      <th>v1</th>\n",
       "      <th>v2</th>\n",
       "      <th>Unnamed: 2</th>\n",
       "      <th>Unnamed: 3</th>\n",
       "      <th>Unnamed: 4</th>\n",
       "    </tr>\n",
       "  </thead>\n",
       "  <tbody>\n",
       "    <tr>\n",
       "      <th>0</th>\n",
       "      <td>ham</td>\n",
       "      <td>Go until jurong point, crazy.. Available only ...</td>\n",
       "      <td>NaN</td>\n",
       "      <td>NaN</td>\n",
       "      <td>NaN</td>\n",
       "    </tr>\n",
       "    <tr>\n",
       "      <th>1</th>\n",
       "      <td>ham</td>\n",
       "      <td>Ok lar... Joking wif u oni...</td>\n",
       "      <td>NaN</td>\n",
       "      <td>NaN</td>\n",
       "      <td>NaN</td>\n",
       "    </tr>\n",
       "    <tr>\n",
       "      <th>2</th>\n",
       "      <td>spam</td>\n",
       "      <td>Free entry in 2 a wkly comp to win FA Cup fina...</td>\n",
       "      <td>NaN</td>\n",
       "      <td>NaN</td>\n",
       "      <td>NaN</td>\n",
       "    </tr>\n",
       "    <tr>\n",
       "      <th>3</th>\n",
       "      <td>ham</td>\n",
       "      <td>U dun say so early hor... U c already then say...</td>\n",
       "      <td>NaN</td>\n",
       "      <td>NaN</td>\n",
       "      <td>NaN</td>\n",
       "    </tr>\n",
       "    <tr>\n",
       "      <th>4</th>\n",
       "      <td>ham</td>\n",
       "      <td>Nah I don't think he goes to usf, he lives aro...</td>\n",
       "      <td>NaN</td>\n",
       "      <td>NaN</td>\n",
       "      <td>NaN</td>\n",
       "    </tr>\n",
       "  </tbody>\n",
       "</table>\n",
       "</div>"
      ],
      "text/plain": [
       "     v1                                                 v2 Unnamed: 2  \\\n",
       "0   ham  Go until jurong point, crazy.. Available only ...        NaN   \n",
       "1   ham                      Ok lar... Joking wif u oni...        NaN   \n",
       "2  spam  Free entry in 2 a wkly comp to win FA Cup fina...        NaN   \n",
       "3   ham  U dun say so early hor... U c already then say...        NaN   \n",
       "4   ham  Nah I don't think he goes to usf, he lives aro...        NaN   \n",
       "\n",
       "  Unnamed: 3 Unnamed: 4  \n",
       "0        NaN        NaN  \n",
       "1        NaN        NaN  \n",
       "2        NaN        NaN  \n",
       "3        NaN        NaN  \n",
       "4        NaN        NaN  "
      ]
     },
     "execution_count": 11,
     "metadata": {},
     "output_type": "execute_result"
    }
   ],
   "source": [
    "df.head()"
   ]
  },
  {
   "cell_type": "code",
   "execution_count": null,
   "id": "a243419a",
   "metadata": {},
   "outputs": [],
   "source": [
    "import nltk\n",
    "import pandas as pd\n",
    "from nltk.corpus import stopwords\n",
    "from textblob import Word\n",
    "from sklearn.preprocessing import LabelEncoder\n",
    "from collections import Counter\n",
    "import wordcloud"
   ]
  },
  {
   "cell_type": "code",
   "execution_count": null,
   "id": "333d8728",
   "metadata": {},
   "outputs": [],
   "source": [
    "df['No_of_characters'] = df['SMS'].apply(len)"
   ]
  },
  {
   "cell_type": "code",
   "execution_count": null,
   "id": "23fade18",
   "metadata": {},
   "outputs": [],
   "source": [
    "df['No_of_word'] = df['SMS'].apply(lambda x:len(nltk.word_tokenize(x)))"
   ]
  },
  {
   "cell_type": "code",
   "execution_count": null,
   "id": "8a7f0063",
   "metadata": {},
   "outputs": [],
   "source": [
    "df['No_of_sentences'] = df['SMS'].apply(lambda x:len(nltk.sent_tokenize(x)))"
   ]
  },
  {
   "cell_type": "code",
   "execution_count": 14,
   "id": "9d72bd65",
   "metadata": {
    "scrolled": true
   },
   "outputs": [
    {
     "data": {
      "text/html": [
       "<div>\n",
       "<style scoped>\n",
       "    .dataframe tbody tr th:only-of-type {\n",
       "        vertical-align: middle;\n",
       "    }\n",
       "\n",
       "    .dataframe tbody tr th {\n",
       "        vertical-align: top;\n",
       "    }\n",
       "\n",
       "    .dataframe thead th {\n",
       "        text-align: right;\n",
       "    }\n",
       "</style>\n",
       "<table border=\"1\" class=\"dataframe\">\n",
       "  <thead>\n",
       "    <tr style=\"text-align: right;\">\n",
       "      <th></th>\n",
       "      <th>v1</th>\n",
       "      <th>v2</th>\n",
       "      <th>Unnamed: 2</th>\n",
       "      <th>Unnamed: 3</th>\n",
       "      <th>Unnamed: 4</th>\n",
       "    </tr>\n",
       "  </thead>\n",
       "  <tbody>\n",
       "    <tr>\n",
       "      <th>0</th>\n",
       "      <td>ham</td>\n",
       "      <td>Go until jurong point, crazy.. Available only ...</td>\n",
       "      <td>NaN</td>\n",
       "      <td>NaN</td>\n",
       "      <td>NaN</td>\n",
       "    </tr>\n",
       "    <tr>\n",
       "      <th>1</th>\n",
       "      <td>ham</td>\n",
       "      <td>Ok lar... Joking wif u oni...</td>\n",
       "      <td>NaN</td>\n",
       "      <td>NaN</td>\n",
       "      <td>NaN</td>\n",
       "    </tr>\n",
       "    <tr>\n",
       "      <th>2</th>\n",
       "      <td>spam</td>\n",
       "      <td>Free entry in 2 a wkly comp to win FA Cup fina...</td>\n",
       "      <td>NaN</td>\n",
       "      <td>NaN</td>\n",
       "      <td>NaN</td>\n",
       "    </tr>\n",
       "    <tr>\n",
       "      <th>3</th>\n",
       "      <td>ham</td>\n",
       "      <td>U dun say so early hor... U c already then say...</td>\n",
       "      <td>NaN</td>\n",
       "      <td>NaN</td>\n",
       "      <td>NaN</td>\n",
       "    </tr>\n",
       "    <tr>\n",
       "      <th>4</th>\n",
       "      <td>ham</td>\n",
       "      <td>Nah I don't think he goes to usf, he lives aro...</td>\n",
       "      <td>NaN</td>\n",
       "      <td>NaN</td>\n",
       "      <td>NaN</td>\n",
       "    </tr>\n",
       "  </tbody>\n",
       "</table>\n",
       "</div>"
      ],
      "text/plain": [
       "     v1                                                 v2 Unnamed: 2  \\\n",
       "0   ham  Go until jurong point, crazy.. Available only ...        NaN   \n",
       "1   ham                      Ok lar... Joking wif u oni...        NaN   \n",
       "2  spam  Free entry in 2 a wkly comp to win FA Cup fina...        NaN   \n",
       "3   ham  U dun say so early hor... U c already then say...        NaN   \n",
       "4   ham  Nah I don't think he goes to usf, he lives aro...        NaN   \n",
       "\n",
       "  Unnamed: 3 Unnamed: 4  \n",
       "0        NaN        NaN  \n",
       "1        NaN        NaN  \n",
       "2        NaN        NaN  \n",
       "3        NaN        NaN  \n",
       "4        NaN        NaN  "
      ]
     },
     "execution_count": 14,
     "metadata": {},
     "output_type": "execute_result"
    }
   ],
   "source": [
    "df.head()"
   ]
  },
  {
   "cell_type": "code",
   "execution_count": null,
   "id": "1e78582b",
   "metadata": {},
   "outputs": [],
   "source": [
    "import matplotlib.pyplot as plt\n",
    "plt.pie(df['Target'].value_counts(), labels=['ham','spam'],autopct=\"%0.2f\")\n",
    "plt.show()\n",
    "df['Target'].value_counts()"
   ]
  },
  {
   "cell_type": "code",
   "execution_count": null,
   "id": "6210d3f7",
   "metadata": {},
   "outputs": [],
   "source": [
    "df[['No_of_characters','No_of_word','No_of_sentences']].describe()"
   ]
  },
  {
   "cell_type": "code",
   "execution_count": null,
   "id": "8bceed8e",
   "metadata": {},
   "outputs": [],
   "source": [
    "df[['No_of_characters','No_of_word','No_of_sentences']].describe()"
   ]
  },
  {
   "cell_type": "code",
   "execution_count": null,
   "id": "106760b0",
   "metadata": {},
   "outputs": [],
   "source": [
    "plt.figure(figsize=(10,5))\n",
    "sns.histplot(df[df['Target'] == 0]['No_of_characters'])\n",
    "sns.histplot(df[df['Target'] == 1]['No_of_characters'],color='red')\n",
    "plt.show()"
   ]
  },
  {
   "cell_type": "code",
   "execution_count": null,
   "id": "84891c8a",
   "metadata": {},
   "outputs": [],
   "source": [
    "plt.figure(figsize=(10,5))\n",
    "sns.histplot(df[df['Target'] == 0]['No_of_word'])\n",
    "sns.histplot(df[df['Target'] == 1]['No_of_word'],color='red');"
   ]
  },
  {
   "cell_type": "code",
   "execution_count": null,
   "id": "208cb872",
   "metadata": {},
   "outputs": [],
   "source": [
    "sns.pairplot(df,hue='Target');"
   ]
  },
  {
   "cell_type": "code",
   "execution_count": null,
   "id": "66819ca2",
   "metadata": {},
   "outputs": [],
   "source": [
    "sns.heatmap(df.corr(),annot=True);"
   ]
  },
  {
   "cell_type": "code",
   "execution_count": null,
   "id": "79261bb9",
   "metadata": {},
   "outputs": [],
   "source": [
    "from nltk.corpus import stopwords\n",
    "def clean_text(df, df_column_name):\n",
    "    \n",
    "    df[df_column_name] = df[df_column_name].str.lower()\n",
    "\n",
    "    df[df_column_name] = df[df_column_name].str.replace(r'^.+@[^\\.].*\\.[a-z]{2,}$','emailaddress')\n",
    "\n",
    "    df[df_column_name] = df[df_column_name].str.replace(r'^http\\://[a-zA-Z0-9\\-\\.]+\\.[a-zA-Z]{2,3}(/\\S*)?$','webaddress')\n",
    "\n",
    "    df[df_column_name] = df[df_column_name].str.replace(r'£|\\$', 'dollars')\n",
    "      \n",
    "    df[df_column_name] = df[df_column_name].str.replace(r'^\\(?[\\d]{3}\\)?[\\s-]?[\\d]{3}[\\s-]?[\\d]{4}$','phonenumber')\n",
    "\n",
    "    df[df_column_name] = df[df_column_name].str.replace(r'\\d+(\\.\\d+)?', 'numbr')\n",
    "\n",
    "    df[df_column_name] = df[df_column_name].str.replace(r'[^\\w\\d\\s]', ' ')\n",
    "\n",
    "    df[df_column_name] = df[df_column_name].str.replace(r'\\s+', ' ')\n",
    "\n",
    "    df[df_column_name] = df[df_column_name].str.replace(r'^\\s+|\\s+?$', '')\n",
    "    \n",
    "    stop_words = set(stopwords.words('english') + ['u', 'ü', 'â', 'ur', '4', '2', 'im', 'dont', 'doin', 'ure'])\n",
    "    df[df_column_name] = df[df_column_name].apply(lambda x: ' '.join(term for term in x.split() if term not in stop_words))"
   ]
  },
  {
   "cell_type": "code",
   "execution_count": null,
   "id": "eebbff08",
   "metadata": {},
   "outputs": [],
   "source": [
    "clean_text(df, 'SMS')\n",
    "df['SMS'].head()"
   ]
  },
  {
   "cell_type": "code",
   "execution_count": null,
   "id": "9b1fbabf",
   "metadata": {},
   "outputs": [],
   "source": [
    "zero = df['SMS'][df['Target'] == 0]\n",
    "zero_cloud = wordcloud.WordCloud(width = 800, height = 500, background_color = 'white', max_words = 100).generate(' '.join(zero))\n",
    "plt.figure(figsize = (8,8), facecolor = 'g')\n",
    "plt.imshow(zero_cloud)\n",
    "plt.axis('off')\n",
    "plt.title('Word Cloud for Ham SMS', fontsize= 15, fontweight = 'bold')\n",
    "plt.tight_layout(pad = 0)\n",
    "plt.show()"
   ]
  },
  {
   "cell_type": "code",
   "execution_count": null,
   "id": "38783fff",
   "metadata": {},
   "outputs": [],
   "source": [
    "one = df['SMS'][df['Target'] == 1]\n",
    "one_cloud = wordcloud.WordCloud(width = 900, height = 600, background_color = 'white', max_words = 100).generate(''.join(zero))\n",
    "plt.figure(figsize =(8,8), facecolor = 'g')\n",
    "plt.imshow(zero_cloud)\n",
    "plt.axis('off')\n",
    "plt.title('Word Cloud for Ham SMS', fontsize = 15, fontweight = 'bold')\n",
    "plt.tight_layout(pad = 0)\n",
    "plt.show()"
   ]
  },
  {
   "cell_type": "code",
   "execution_count": null,
   "id": "fd4d7264",
   "metadata": {},
   "outputs": [],
   "source": [
    "ham_corpus = []\n",
    "for i in df[df['Target'] == 0]['SMS'].tolist():\n",
    "    for word in i.split():\n",
    "        ham_corpus.append(word)"
   ]
  },
  {
   "cell_type": "code",
   "execution_count": null,
   "id": "7a56820d",
   "metadata": {},
   "outputs": [],
   "source": [
    "len(ham_corpus)"
   ]
  },
  {
   "cell_type": "code",
   "execution_count": null,
   "id": "78683f0b",
   "metadata": {},
   "outputs": [],
   "source": [
    "from collections import Counter\n",
    "count= sns.barplot(pd.DataFrame(Counter(ham_corpus).most_common(20))[0],pd.DataFrame(Counter(ham_corpus).most_common(20))[1])\n",
    "count.set_xlabel(\"Top 20 Ham Word\", fontsize=10, fontweight = 'bold')\n",
    "count.set_ylabel(\"Frequency\", fontsize=10, fontweight = 'bold')\n",
    "plt.title('Top 20 Ham Word in SMS Corpus', fontsize=15, fontweight = 'bold')\n",
    "plt.xticks(rotation ='vertical')\n",
    "plt.tight_layout()\n",
    "plt.show()"
   ]
  },
  {
   "cell_type": "code",
   "execution_count": null,
   "id": "1a92df4f",
   "metadata": {},
   "outputs": [],
   "source": [
    "spam_corpus = []\n",
    "for i in df[df['Target'] == 1]['SMS'].tolist():\n",
    "    for word in i.split():\n",
    "        spam_corpus.append(word)"
   ]
  },
  {
   "cell_type": "code",
   "execution_count": null,
   "id": "86d9dad1",
   "metadata": {},
   "outputs": [],
   "source": [
    "from collections import Counter\n",
    "count = sns.barplot(pd.DataFrame(Counter(ham_corpus).most_common(20))[0],pd.DataFrame(Counter(ham_corpus).most_common(20))[1])\n",
    "count.set_xlabel('Top 20 Ham Word',fontsize = 10 ,fontweight = 'bold')\n",
    "count.set_ylabel('Frequency',fontsize = 10, fontweight = 'bold')\n",
    "plt.title('Top 20 Ham Word in SMS Corpus', fontsize = 12, fontweight = 'bold')\n",
    "plt.xticks(rotation = 'vertical')\n",
    "plt.tight_layout()\n",
    "plt.show()"
   ]
  },
  {
   "cell_type": "code",
   "execution_count": null,
   "id": "3a8ebed2",
   "metadata": {},
   "outputs": [],
   "source": [
    "from sklearn.feature_extraction.text import TfidfVectorizer\n",
    "tf = TfidfVectorizer(max_features=3000)\n",
    "fertures = tf.fit_transform(df['SMS'])\n",
    "X=fertures\n",
    "Y=df[['Target']]"
   ]
  },
  {
   "cell_type": "code",
   "execution_count": null,
   "id": "200b95b5",
   "metadata": {},
   "outputs": [],
   "source": [
    "from sklearn.ensemble import RandomForestClassifier\n",
    "from sklearn.model_selection import train_test_split\n",
    "from sklearn.metrics import accuracy_score\n",
    "maxAccu = 0\n",
    "maxRs = 0\n",
    "for i in range(1,200):\n",
    "    X_train,X_test,Y_train,Y_test = train_test_split(X,Y,test_size=.30,random_state=i)\n",
    "    RF = RandomForestClassifier()\n",
    "    RF.fit(X_train,Y_train)\n",
    "    predRF = RF.predict(X_test)\n",
    "    acc = accuracy_score(Y_test,predRF)\n",
    "    if acc>maxAccu:\n",
    "        maxAccu=acc\n",
    "        maxRs = i\n",
    "print(f'Best Accuracy is {maxAccu} on Random_state {maxRs}')"
   ]
  },
  {
   "cell_type": "code",
   "execution_count": null,
   "id": "f5eb8c03",
   "metadata": {},
   "outputs": [],
   "source": [
    "X_train,X_test,Y_train,Y_test = train_test_split(X,Y,test_size=.3,random_state=maxRs)"
   ]
  },
  {
   "cell_type": "code",
   "execution_count": null,
   "id": "e361fb1e",
   "metadata": {},
   "outputs": [],
   "source": [
    "from sklearn.linear_model import LogisticRegression\n",
    "from sklearn.metrics import r2_score,confusion_matrix,classification_report,mean_absolute_error,mean_squared_error\n",
    "\n",
    "LOR = LogisticRegression()\n",
    "LOR.fit(X_train,Y_train)\n",
    "\n",
    "predLOR = LOR.predict(X_test)\n",
    "print('R2 Score :',r2_score(Y_test,predLOR))\n",
    "\n",
    "print('Mean Absolute Error(MAE)',mean_absolute_error(Y_test,predLOR))\n",
    "\n",
    "print('Mean Squared Error',mean_squared_error(Y_test,predLOR))\n",
    "\n",
    "print('Root Mean Squared Error',np.sqrt(mean_squared_error(Y_test,predLOR)))\n",
    "\n",
    "print(\"-----------------------------------------------------\")\n",
    "print(accuracy_score(Y_test, predLOR))\n",
    "print(\"-----------------------------------------------------\")\n",
    "print(confusion_matrix(Y_test, predLOR))\n",
    "print(\"-----------------------------------------------------\")\n",
    "print(classification_report(Y_test,predLOR)) "
   ]
  },
  {
   "cell_type": "code",
   "execution_count": null,
   "id": "0825896c",
   "metadata": {},
   "outputs": [],
   "source": [
    "cm = confusion_matrix(Y_test,predLOR)\n",
    "\n",
    "x_axis_labels = ['0','1']\n",
    "y_axis_labels = ['0','1']\n",
    "\n",
    "f , ax = plt.subplots(figsize=(6,6))\n",
    "sns.heatmap(cm,annot = True,linewidths=.2,linecolor='black',fmt='.0f',ax=ax,cmap='BuGn',xticklabels=x_axis_labels,yticklabels=y_axis_labels)\n",
    "\n",
    "plt.xlabel('PREDICTED LABEL')\n",
    "plt.ylabel('TRUE LABEL')\n",
    "plt.title('Confusion Matrix for Logistic Regression');"
   ]
  },
  {
   "cell_type": "code",
   "execution_count": null,
   "id": "9d416264",
   "metadata": {},
   "outputs": [],
   "source": [
    "from sklearn.ensemble import RandomForestClassifier\n",
    "\n",
    "RFC = RandomForestClassifier()\n",
    "RFC.fit(X_train,Y_train)\n",
    "\n",
    "predRFC = RFC.predict(X_test)\n",
    "print('R2 Score:',r2_score(Y_test,predRFC))\n",
    "\n",
    "print('Mean Absolute Error',mean_absolute_error(Y_test,predRFC))\n",
    "\n",
    "print('Mean Squared Error',mean_squared_error(Y_test,predRFC))\n",
    "\n",
    "print('Root Mean Squared Error',np.sqrt(mean_squared_error(Y_test,predRFC)))\n",
    "print(\"-----------------------------------------------------\")\n",
    "print('Accuracy Score: ',accuracy_score(Y_test, predRFC))\n",
    "print(\"-----------------------------------------------------\")\n",
    "print('Confusion Matrix:\\n',confusion_matrix(Y_test, predRFC))\n",
    "print(\"-----------------------------------------------------\")\n",
    "print(classification_report(Y_test,predRFC))"
   ]
  },
  {
   "cell_type": "code",
   "execution_count": null,
   "id": "26bf46e1",
   "metadata": {},
   "outputs": [],
   "source": [
    "cm = confusion_matrix(Y_test,predRFC)\n",
    "\n",
    "x_axis_labels = [\"0\",\"1\"]\n",
    "y_axis_labels = [\"0\",\"1\"]\n",
    "\n",
    "f , ax = plt.subplots(figsize=(6,6))\n",
    "sns.heatmap(cm, annot = True,linewidths=.2, linecolor=\"black\", fmt = \".0f\", ax=ax, cmap=\"BuGn\",xticklabels=x_axis_labels,yticklabels=y_axis_labels)\n",
    "\n",
    "plt.xlabel(\"PREDICTED LABEL\")\n",
    "plt.ylabel(\"TRUE LABEL\")\n",
    "plt.title('Confusion Matrix for RandomForestClassifier')\n",
    "plt.show()"
   ]
  },
  {
   "cell_type": "code",
   "execution_count": null,
   "id": "fb776981",
   "metadata": {},
   "outputs": [],
   "source": [
    "from sklearn.naive_bayes import MultinomialNB\n",
    "\n",
    "MNB = MultinomialNB()\n",
    "MNB.fit(X_train,Y_train)\n",
    "\n",
    "predMNB = MNB.predict(X_test)\n",
    "print('R2 Score:',r2_score(Y_test,predMNB))\n",
    "\n",
    "print('Mean Absolute Error',mean_absolute_error(Y_test,predMNB))\n",
    "\n",
    "print('Mean Squared Error',mean_squared_error(Y_test,predMNB))\n",
    "\n",
    "print('Root Mean Squared Error',np.sqrt(mean_squared_error(Y_test,predMNB)))\n",
    "print(\"-----------------------------------------------------\")\n",
    "print('Accuracy Score: ',accuracy_score(Y_test, predMNB))\n",
    "print(\"-----------------------------------------------------\")\n",
    "print('Confusion Matrix:\\n',confusion_matrix(Y_test, predMNB))\n",
    "print(\"-----------------------------------------------------\")\n",
    "print(classification_report(Y_test,predMNB))"
   ]
  },
  {
   "cell_type": "code",
   "execution_count": null,
   "id": "aa2ac6f0",
   "metadata": {},
   "outputs": [],
   "source": [
    "cm = confusion_matrix(Y_test,predMNB)\n",
    "\n",
    "x_axis_labels = [\"0\",\"1\"]\n",
    "y_axis_labels = [\"0\",\"1\"]\n",
    "\n",
    "f , ax = plt.subplots(figsize=(6,6))\n",
    "sns.heatmap(cm, annot = True,linewidths=.2, linecolor=\"black\", fmt = \".0f\", ax=ax, cmap=\"BuGn\",xticklabels=x_axis_labels,yticklabels=y_axis_labels)\n",
    "\n",
    "plt.xlabel(\"PREDICTED LABEL\")\n",
    "plt.ylabel(\"TRUE LABEL\")\n",
    "plt.title('Confusion Matrix for MultinomialNB Classifier')\n",
    "plt.show()"
   ]
  },
  {
   "cell_type": "code",
   "execution_count": null,
   "id": "60ddb528",
   "metadata": {},
   "outputs": [],
   "source": [
    "from sklearn.naive_bayes import BernoulliNB\n",
    "\n",
    "BNB = BernoulliNB()\n",
    "BNB.fit(X_train,Y_train)\n",
    "\n",
    "predBNB = BNB.predict(X_test)\n",
    "print('R2 Score:',r2_score(Y_test,predBNB))\n",
    "\n",
    "print('Mean Absolute Error',mean_absolute_error(Y_test,predBNB))\n",
    "\n",
    "print('Mean Squared Error',mean_squared_error(Y_test,predBNB))\n",
    "\n",
    "print('Root Mean Squared Error',np.sqrt(mean_squared_error(Y_test,predBNB)))\n",
    "print(\"-----------------------------------------------------\")\n",
    "print('Accuracy Score: ',accuracy_score(Y_test, predBNB))\n",
    "print(\"-----------------------------------------------------\")\n",
    "print('Confusion Matrix:\\n',confusion_matrix(Y_test, predBNB))\n",
    "print(\"-----------------------------------------------------\")\n",
    "print(classification_report(Y_test,predBNB))"
   ]
  },
  {
   "cell_type": "code",
   "execution_count": null,
   "id": "10e6cff4",
   "metadata": {},
   "outputs": [],
   "source": [
    "cm = confusion_matrix(Y_test,predBNB)\n",
    "\n",
    "x_axis_labels = [\"0\",\"1\"]\n",
    "y_axis_labels = [\"0\",\"1\"]\n",
    "\n",
    "f , ax = plt.subplots(figsize=(5,5))\n",
    "sns.heatmap(cm, annot = True,linewidths=.2, linecolor=\"black\", fmt = \".0f\", ax=ax, cmap=\"BuGn\",xticklabels=x_axis_labels,yticklabels=y_axis_labels)\n",
    "\n",
    "plt.xlabel(\"PREDICTED LABEL\")\n",
    "plt.ylabel(\"TRUE LABEL\")\n",
    "plt.title('Confusion Matrix for BernoulliNB Classifier')\n",
    "plt.show()"
   ]
  },
  {
   "cell_type": "code",
   "execution_count": null,
   "id": "2b82a749",
   "metadata": {},
   "outputs": [],
   "source": [
    "from sklearn.ensemble import ExtraTreesClassifier\n",
    "\n",
    "ETC = ExtraTreesClassifier()\n",
    "ETC.fit(X_train,Y_train)\n",
    "\n",
    "predETC = ETC.predict(X_test)\n",
    "print('R2 Score:',r2_score(Y_test,predETC))\n",
    "\n",
    "print('Mean Absolute Error',mean_absolute_error(Y_test,predETC))\n",
    "\n",
    "print('Mean Squared Error',mean_squared_error(Y_test,predETC))\n",
    "\n",
    "print('Root Mean Squared Error',np.sqrt(mean_squared_error(Y_test,predETC)))\n",
    "print(\"-----------------------------------------------------\")\n",
    "print('Accuracy Score: ',accuracy_score(Y_test, predETC))\n",
    "print(\"----------------------------------------------------\")\n",
    "\n",
    "print('Confusion Matrix:\\n',confusion_matrix(Y_test, predETC))\n",
    "print(\"-----------------------------------------------------\")\n",
    "\n",
    "print(classification_report(Y_test,predETC))"
   ]
  },
  {
   "cell_type": "code",
   "execution_count": null,
   "id": "57129bcb",
   "metadata": {},
   "outputs": [],
   "source": [
    "cm = confusion_matrix(Y_test,predETC)\n",
    "\n",
    "x_axis_labels = [\"0\",\"1\"]\n",
    "y_axis_labels = [\"0\",\"1\"]\n",
    "\n",
    "f , ax = plt.subplots(figsize=(5,5))\n",
    "sns.heatmap(cm, annot = True,linewidths=.2, linecolor=\"black\", fmt = \".0f\", ax=ax, cmap=\"BuGn\",xticklabels=x_axis_labels,yticklabels=y_axis_labels)\n",
    "plt.xlabel(\"PREDICTED LABEL\")\n",
    "plt.ylabel(\"TRUE LABEL\")\n",
    "plt.title('Confusion Matrix for  ExtraTrees Classifier')\n",
    "plt.show()"
   ]
  },
  {
   "cell_type": "code",
   "execution_count": null,
   "id": "22692092",
   "metadata": {},
   "outputs": [],
   "source": [
    "from sklearn.ensemble import AdaBoostClassifier\n",
    "ADA = AdaBoostClassifier()\n",
    "ADA.fit(X_train,Y_train)\n",
    "\n",
    "predADA = ADA.predict(X_test)\n",
    "print('R2 Score:',r2_score(Y_test,predADA))\n",
    "\n",
    "print('Mean Absolute Error',mean_absolute_error(Y_test,predADA))\n",
    "\n",
    "print('Mean Squared Error',mean_squared_error(Y_test,predADA))\n",
    "\n",
    "print('Root Mean Squared Error',np.sqrt(mean_squared_error(Y_test,predADA)))\n",
    "print(\"-----------------------------------------------------\")\n",
    "\n",
    "print('Accuracy Score: ',accuracy_score(Y_test, predADA))\n",
    "print(\"-----------------------------------------------------\")\n",
    "\n",
    "print('Confusion Matrix:\\n',confusion_matrix(Y_test, predADA))\n",
    "print(\"-----------------------------------------------------\")\n",
    "\n",
    "print(classification_report(Y_test,predADA))"
   ]
  },
  {
   "cell_type": "code",
   "execution_count": null,
   "id": "9f55cc61",
   "metadata": {},
   "outputs": [],
   "source": [
    "cm = confusion_matrix(Y_test,predADA)\n",
    "\n",
    "x_axis_labels = [\"0\",\"1\"]\n",
    "y_axis_labels = [\"0\",\"1\"]\n",
    "\n",
    "f , ax = plt.subplots(figsize=(5,5))\n",
    "sns.heatmap(cm, annot = True,linewidths=.2, linecolor=\"black\", fmt = \".0f\", ax=ax, cmap=\"BuGn\",xticklabels=x_axis_labels,yticklabels=y_axis_labels)\n",
    "\n",
    "plt.xlabel(\"PREDICTED LABEL\")\n",
    "plt.ylabel(\"TRUE LABEL\")\n",
    "plt.title('Confusion Matrix for  AdaBoostClassifier')\n",
    "plt.show()"
   ]
  },
  {
   "cell_type": "code",
   "execution_count": null,
   "id": "363c10f7",
   "metadata": {},
   "outputs": [],
   "source": [
    "from sklearn.svm import SVC\n",
    "\n",
    "svc = SVC()\n",
    "svc.fit(X_train,Y_train)\n",
    "\n",
    "predsvc = svc.predict(X_test)\n",
    "print('R2 Score:',r2_score(Y_test,predsvc))\n",
    "\n",
    "print('Mean Absolute Error',mean_absolute_error(Y_test,predsvc))\n",
    "\n",
    "print('Mean Squared Error',mean_squared_error(Y_test,predsvc))\n",
    "\n",
    "print('Root Mean Squared Error',np.sqrt(mean_squared_error(Y_test,predsvc)))\n",
    "print(\"----------------------------------------------------\")\n",
    "print('Accuracy Score: ',accuracy_score(Y_test, predsvc))\n",
    "print(\"-----------------------------------------------------\")\n",
    "print('Confusion Matrix:\\n',confusion_matrix(Y_test, predsvc))\n",
    "print(\"-----------------------------------------------------\")\n",
    "print(classification_report(Y_test,predsvc))"
   ]
  },
  {
   "cell_type": "code",
   "execution_count": null,
   "id": "9b75bf57",
   "metadata": {},
   "outputs": [],
   "source": [
    "cm = confusion_matrix(Y_test,predsvc)\n",
    "\n",
    "x_axis_labels = [\"0\",\"1\"]\n",
    "y_axis_labels = [\"0\",\"1\"]\n",
    "\n",
    "f , ax = plt.subplots(figsize=(5,5))\n",
    "sns.heatmap(cm, annot = True,linewidths=.2, linecolor=\"black\", fmt = \".0f\", ax=ax, cmap=\"BuGn\",xticklabels=x_axis_labels,yticklabels=y_axis_labels)\n",
    "plt.xlabel(\"PREDICTED LABEL\")\n",
    "plt.ylabel(\"TRUE LABEL\")\n",
    "plt.title('Confusion Matrix for Support Vector Machine Classifier')\n",
    "plt.show()"
   ]
  },
  {
   "cell_type": "code",
   "execution_count": null,
   "id": "ae3de216",
   "metadata": {},
   "outputs": [],
   "source": [
    "from sklearn.model_selection import cross_val_score\n",
    "\n",
    "print('Logistic Regression',cross_val_score(LOR,X,Y,cv=5).mean())\n",
    "\n",
    "print('Random Forest Classifier',cross_val_score(RFC,X,Y,cv=5).mean())\n",
    "\n",
    "print('BernoulliNB Classifier:',cross_val_score(BNB,X,Y,cv=5).mean())\n",
    "\n",
    "print('Support Vector  Classifier',cross_val_score(svc,X,Y,cv=5).mean())\n",
    "\n",
    "print('Extra Trees Classifier:',cross_val_score(ETC,X,Y,cv=5).mean())\n",
    "\n",
    "print('MultinomialNB Classifier:',cross_val_score(MNB,X,Y,cv=5).mean())\n",
    "\n",
    "print('AdaBoosting Classifier:',cross_val_score(ADA,X,Y,cv=5).mean())"
   ]
  }
 ],
 "metadata": {
  "kernelspec": {
   "display_name": "Python 3 (ipykernel)",
   "language": "python",
   "name": "python3"
  },
  "language_info": {
   "codemirror_mode": {
    "name": "ipython",
    "version": 3
   },
   "file_extension": ".py",
   "mimetype": "text/x-python",
   "name": "python",
   "nbconvert_exporter": "python",
   "pygments_lexer": "ipython3",
   "version": "3.9.12"
  }
 },
 "nbformat": 4,
 "nbformat_minor": 5
}
